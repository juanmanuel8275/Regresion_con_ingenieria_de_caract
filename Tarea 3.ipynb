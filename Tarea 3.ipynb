{
 "cells": [
  {
   "cell_type": "code",
   "execution_count": 1,
   "metadata": {},
   "outputs": [],
   "source": [
    "import pandas as pd\n",
    "import numpy as np\n",
    "import matplotlib.pyplot as plt\n"
   ]
  },
  {
   "attachments": {},
   "cell_type": "markdown",
   "metadata": {},
   "source": [
    "Carga del archivo \"train.csv\""
   ]
  },
  {
   "cell_type": "code",
   "execution_count": 2,
   "metadata": {},
   "outputs": [
    {
     "data": {
      "text/html": [
       "<div>\n",
       "<style scoped>\n",
       "    .dataframe tbody tr th:only-of-type {\n",
       "        vertical-align: middle;\n",
       "    }\n",
       "\n",
       "    .dataframe tbody tr th {\n",
       "        vertical-align: top;\n",
       "    }\n",
       "\n",
       "    .dataframe thead th {\n",
       "        text-align: right;\n",
       "    }\n",
       "</style>\n",
       "<table border=\"1\" class=\"dataframe\">\n",
       "  <thead>\n",
       "    <tr style=\"text-align: right;\">\n",
       "      <th></th>\n",
       "      <th>id</th>\n",
       "      <th>longitude</th>\n",
       "      <th>latitude</th>\n",
       "      <th>housing_median_age</th>\n",
       "      <th>total_rooms</th>\n",
       "      <th>total_bedrooms</th>\n",
       "      <th>population</th>\n",
       "      <th>households</th>\n",
       "      <th>median_income</th>\n",
       "      <th>median_house_value</th>\n",
       "      <th>ocean_proximity</th>\n",
       "    </tr>\n",
       "  </thead>\n",
       "  <tbody>\n",
       "    <tr>\n",
       "      <th>0</th>\n",
       "      <td>9744</td>\n",
       "      <td>-121.65</td>\n",
       "      <td>36.77</td>\n",
       "      <td>15</td>\n",
       "      <td>2191</td>\n",
       "      <td>358.0</td>\n",
       "      <td>1150</td>\n",
       "      <td>330</td>\n",
       "      <td>4.7969</td>\n",
       "      <td>227500.0</td>\n",
       "      <td>&lt;1H OCEAN</td>\n",
       "    </tr>\n",
       "    <tr>\n",
       "      <th>1</th>\n",
       "      <td>13893</td>\n",
       "      <td>-116.27</td>\n",
       "      <td>34.13</td>\n",
       "      <td>37</td>\n",
       "      <td>452</td>\n",
       "      <td>109.0</td>\n",
       "      <td>184</td>\n",
       "      <td>59</td>\n",
       "      <td>3.7292</td>\n",
       "      <td>65800.0</td>\n",
       "      <td>INLAND</td>\n",
       "    </tr>\n",
       "    <tr>\n",
       "      <th>2</th>\n",
       "      <td>18277</td>\n",
       "      <td>-122.07</td>\n",
       "      <td>37.34</td>\n",
       "      <td>35</td>\n",
       "      <td>1172</td>\n",
       "      <td>184.0</td>\n",
       "      <td>512</td>\n",
       "      <td>175</td>\n",
       "      <td>7.3561</td>\n",
       "      <td>500001.0</td>\n",
       "      <td>&lt;1H OCEAN</td>\n",
       "    </tr>\n",
       "    <tr>\n",
       "      <th>3</th>\n",
       "      <td>16176</td>\n",
       "      <td>-122.39</td>\n",
       "      <td>37.74</td>\n",
       "      <td>52</td>\n",
       "      <td>126</td>\n",
       "      <td>24.0</td>\n",
       "      <td>37</td>\n",
       "      <td>27</td>\n",
       "      <td>10.2264</td>\n",
       "      <td>225000.0</td>\n",
       "      <td>NEAR BAY</td>\n",
       "    </tr>\n",
       "    <tr>\n",
       "      <th>4</th>\n",
       "      <td>8843</td>\n",
       "      <td>-118.38</td>\n",
       "      <td>34.09</td>\n",
       "      <td>28</td>\n",
       "      <td>4001</td>\n",
       "      <td>1352.0</td>\n",
       "      <td>1799</td>\n",
       "      <td>1220</td>\n",
       "      <td>2.5784</td>\n",
       "      <td>272900.0</td>\n",
       "      <td>&lt;1H OCEAN</td>\n",
       "    </tr>\n",
       "  </tbody>\n",
       "</table>\n",
       "</div>"
      ],
      "text/plain": [
       "      id  longitude  latitude  housing_median_age  total_rooms  \\\n",
       "0   9744    -121.65     36.77                  15         2191   \n",
       "1  13893    -116.27     34.13                  37          452   \n",
       "2  18277    -122.07     37.34                  35         1172   \n",
       "3  16176    -122.39     37.74                  52          126   \n",
       "4   8843    -118.38     34.09                  28         4001   \n",
       "\n",
       "   total_bedrooms  population  households  median_income  median_house_value  \\\n",
       "0           358.0        1150         330         4.7969            227500.0   \n",
       "1           109.0         184          59         3.7292             65800.0   \n",
       "2           184.0         512         175         7.3561            500001.0   \n",
       "3            24.0          37          27        10.2264            225000.0   \n",
       "4          1352.0        1799        1220         2.5784            272900.0   \n",
       "\n",
       "  ocean_proximity  \n",
       "0       <1H OCEAN  \n",
       "1          INLAND  \n",
       "2       <1H OCEAN  \n",
       "3        NEAR BAY  \n",
       "4       <1H OCEAN  "
      ]
     },
     "execution_count": 2,
     "metadata": {},
     "output_type": "execute_result"
    }
   ],
   "source": [
    "datatrain = pd.read_csv('train.csv')\n",
    "datatrain.head()"
   ]
  },
  {
   "attachments": {},
   "cell_type": "markdown",
   "metadata": {},
   "source": [
    "1. Determine que columnas poseen faltantes (NA o Nulos),"
   ]
  },
  {
   "cell_type": "code",
   "execution_count": 3,
   "metadata": {},
   "outputs": [
    {
     "data": {
      "text/plain": [
       "['total_bedrooms']"
      ]
     },
     "execution_count": 3,
     "metadata": {},
     "output_type": "execute_result"
    }
   ],
   "source": [
    "columnas_nulos=[col for col in datatrain.columns if(datatrain[col].isnull().mean()>0)]\n",
    "columnas_nulos"
   ]
  },
  {
   "attachments": {},
   "cell_type": "markdown",
   "metadata": {},
   "source": [
    "2. Determine la proporción de faltantes para cada columna con faltantes, muestre una\n",
    "gráfica de barras."
   ]
  },
  {
   "cell_type": "code",
   "execution_count": 4,
   "metadata": {},
   "outputs": [
    {
     "data": {
      "text/plain": [
       "total_bedrooms    0.009483\n",
       "dtype: float64"
      ]
     },
     "execution_count": 4,
     "metadata": {},
     "output_type": "execute_result"
    }
   ],
   "source": [
    "prop_faltantes=datatrain[columnas_nulos].isnull().mean()\n",
    "prop_faltantes"
   ]
  },
  {
   "attachments": {},
   "cell_type": "markdown",
   "metadata": {},
   "source": [
    "3. Si la variable es numérica realice un análisis de cual sería el mejor método para\n",
    "realizar la imputación de datos, debe mostrar un bloque de código donde se muestre\n",
    "cada imputación y su análisis."
   ]
  },
  {
   "cell_type": "code",
   "execution_count": 5,
   "metadata": {},
   "outputs": [
    {
     "data": {
      "text/plain": [
       "total_bedrooms    float64\n",
       "dtype: object"
      ]
     },
     "execution_count": 5,
     "metadata": {},
     "output_type": "execute_result"
    }
   ],
   "source": [
    "##Determinamos el tipo de variable\n",
    "datatrain[columnas_nulos].dtypes"
   ]
  },
  {
   "cell_type": "code",
   "execution_count": 6,
   "metadata": {},
   "outputs": [
    {
     "name": "stdout",
     "output_type": "stream",
     "text": [
      "Media: 537.7787561146051\n",
      "Mediana: 433.0\n"
     ]
    }
   ],
   "source": [
    "## Analizamos la media y mediana de la variable\n",
    "media_train=datatrain['total_bedrooms'].mean()\n",
    "mediana_train=datatrain['total_bedrooms'].median()\n",
    "\n",
    "print(f\"Media: {media_train}\")\n",
    "print(f\"Mediana: {mediana_train}\")"
   ]
  },
  {
   "cell_type": "code",
   "execution_count": 7,
   "metadata": {},
   "outputs": [
    {
     "data": {
      "text/plain": [
       "<matplotlib.legend.Legend at 0x1fdd7f529a0>"
      ]
     },
     "execution_count": 7,
     "metadata": {},
     "output_type": "execute_result"
    },
    {
     "data": {
      "image/png": "[encoded data removed]",
      "text/plain": [
       "<Figure size 640x480 with 1 Axes>"
      ]
     },
     "metadata": {},
     "output_type": "display_data"
    }
   ],
   "source": [
    "## Creamos nuevas columnas media y mediana para analizar la que mayor o menor impacto tenga al ser sutituida\n",
    "datatrain['bedrooms_media']=np.round(datatrain['total_bedrooms'].fillna(media_train))\n",
    "datatrain['bedrooms_mediana']=np.round(datatrain['total_bedrooms'].fillna(mediana_train))\n",
    "\n",
    "fig=plt.figure()\n",
    "ax=fig.add_subplot(111)\n",
    "\n",
    "datatrain['total_bedrooms'].plot.density(color='red', label='Original')\n",
    "datatrain['bedrooms_media'].plot.density(color='blue', label='Media')\n",
    "datatrain['bedrooms_mediana'].plot.density(color='green', label='Median')\n",
    "\n",
    "ax.legend()"
   ]
  },
  {
   "cell_type": "code",
   "execution_count": 8,
   "metadata": {},
   "outputs": [
    {
     "data": {
      "text/html": [
       "<div>\n",
       "<style scoped>\n",
       "    .dataframe tbody tr th:only-of-type {\n",
       "        vertical-align: middle;\n",
       "    }\n",
       "\n",
       "    .dataframe tbody tr th {\n",
       "        vertical-align: top;\n",
       "    }\n",
       "\n",
       "    .dataframe thead th {\n",
       "        text-align: right;\n",
       "    }\n",
       "</style>\n",
       "<table border=\"1\" class=\"dataframe\">\n",
       "  <thead>\n",
       "    <tr style=\"text-align: right;\">\n",
       "      <th></th>\n",
       "      <th>id</th>\n",
       "      <th>longitude</th>\n",
       "      <th>latitude</th>\n",
       "      <th>housing_median_age</th>\n",
       "      <th>total_rooms</th>\n",
       "      <th>total_bedrooms</th>\n",
       "      <th>population</th>\n",
       "      <th>households</th>\n",
       "      <th>median_income</th>\n",
       "      <th>median_house_value</th>\n",
       "      <th>ocean_proximity</th>\n",
       "      <th>bedrooms_media</th>\n",
       "      <th>bedrooms_mediana</th>\n",
       "    </tr>\n",
       "  </thead>\n",
       "  <tbody>\n",
       "    <tr>\n",
       "      <th>0</th>\n",
       "      <td>9744</td>\n",
       "      <td>-121.65</td>\n",
       "      <td>36.77</td>\n",
       "      <td>15</td>\n",
       "      <td>2191</td>\n",
       "      <td>358.0</td>\n",
       "      <td>1150</td>\n",
       "      <td>330</td>\n",
       "      <td>4.7969</td>\n",
       "      <td>227500.0</td>\n",
       "      <td>&lt;1H OCEAN</td>\n",
       "      <td>358.0</td>\n",
       "      <td>358.0</td>\n",
       "    </tr>\n",
       "    <tr>\n",
       "      <th>1</th>\n",
       "      <td>13893</td>\n",
       "      <td>-116.27</td>\n",
       "      <td>34.13</td>\n",
       "      <td>37</td>\n",
       "      <td>452</td>\n",
       "      <td>109.0</td>\n",
       "      <td>184</td>\n",
       "      <td>59</td>\n",
       "      <td>3.7292</td>\n",
       "      <td>65800.0</td>\n",
       "      <td>INLAND</td>\n",
       "      <td>109.0</td>\n",
       "      <td>109.0</td>\n",
       "    </tr>\n",
       "    <tr>\n",
       "      <th>2</th>\n",
       "      <td>18277</td>\n",
       "      <td>-122.07</td>\n",
       "      <td>37.34</td>\n",
       "      <td>35</td>\n",
       "      <td>1172</td>\n",
       "      <td>184.0</td>\n",
       "      <td>512</td>\n",
       "      <td>175</td>\n",
       "      <td>7.3561</td>\n",
       "      <td>500001.0</td>\n",
       "      <td>&lt;1H OCEAN</td>\n",
       "      <td>184.0</td>\n",
       "      <td>184.0</td>\n",
       "    </tr>\n",
       "    <tr>\n",
       "      <th>3</th>\n",
       "      <td>16176</td>\n",
       "      <td>-122.39</td>\n",
       "      <td>37.74</td>\n",
       "      <td>52</td>\n",
       "      <td>126</td>\n",
       "      <td>24.0</td>\n",
       "      <td>37</td>\n",
       "      <td>27</td>\n",
       "      <td>10.2264</td>\n",
       "      <td>225000.0</td>\n",
       "      <td>NEAR BAY</td>\n",
       "      <td>24.0</td>\n",
       "      <td>24.0</td>\n",
       "    </tr>\n",
       "    <tr>\n",
       "      <th>4</th>\n",
       "      <td>8843</td>\n",
       "      <td>-118.38</td>\n",
       "      <td>34.09</td>\n",
       "      <td>28</td>\n",
       "      <td>4001</td>\n",
       "      <td>1352.0</td>\n",
       "      <td>1799</td>\n",
       "      <td>1220</td>\n",
       "      <td>2.5784</td>\n",
       "      <td>272900.0</td>\n",
       "      <td>&lt;1H OCEAN</td>\n",
       "      <td>1352.0</td>\n",
       "      <td>1352.0</td>\n",
       "    </tr>\n",
       "  </tbody>\n",
       "</table>\n",
       "</div>"
      ],
      "text/plain": [
       "      id  longitude  latitude  housing_median_age  total_rooms  \\\n",
       "0   9744    -121.65     36.77                  15         2191   \n",
       "1  13893    -116.27     34.13                  37          452   \n",
       "2  18277    -122.07     37.34                  35         1172   \n",
       "3  16176    -122.39     37.74                  52          126   \n",
       "4   8843    -118.38     34.09                  28         4001   \n",
       "\n",
       "   total_bedrooms  population  households  median_income  median_house_value  \\\n",
       "0           358.0        1150         330         4.7969            227500.0   \n",
       "1           109.0         184          59         3.7292             65800.0   \n",
       "2           184.0         512         175         7.3561            500001.0   \n",
       "3            24.0          37          27        10.2264            225000.0   \n",
       "4          1352.0        1799        1220         2.5784            272900.0   \n",
       "\n",
       "  ocean_proximity  bedrooms_media  bedrooms_mediana  \n",
       "0       <1H OCEAN           358.0             358.0  \n",
       "1          INLAND           109.0             109.0  \n",
       "2       <1H OCEAN           184.0             184.0  \n",
       "3        NEAR BAY            24.0              24.0  \n",
       "4       <1H OCEAN          1352.0            1352.0  "
      ]
     },
     "execution_count": 8,
     "metadata": {},
     "output_type": "execute_result"
    }
   ],
   "source": [
    "datatrain.head()"
   ]
  },
  {
   "cell_type": "code",
   "execution_count": 9,
   "metadata": {},
   "outputs": [],
   "source": [
    "##Siendo que no tiene impacto el uso de 1 u otra imputaremos con la \"media\"\n",
    "\n",
    "datatrain['total_bedrooms']=np.round(datatrain['bedrooms_media'].fillna(media_train))"
   ]
  },
  {
   "cell_type": "code",
   "execution_count": 10,
   "metadata": {},
   "outputs": [],
   "source": [
    "## Eliminamos las variables \"bedroom_media y bedroom_mediana\", creadas para analisis\n",
    "datatrain = datatrain.drop([\"bedrooms_media\", \"bedrooms_mediana\"], axis=1)"
   ]
  },
  {
   "cell_type": "code",
   "execution_count": 11,
   "metadata": {},
   "outputs": [
    {
     "data": {
      "text/plain": [
       "[]"
      ]
     },
     "execution_count": 11,
     "metadata": {},
     "output_type": "execute_result"
    }
   ],
   "source": [
    "## Revalidamos que ya no existan variables \"nulas\"\n",
    "columnas_nulos=[col for col in datatrain.columns if(datatrain[col].isnull().mean()>0)]\n",
    "columnas_nulos"
   ]
  },
  {
   "attachments": {},
   "cell_type": "markdown",
   "metadata": {},
   "source": [
    "4. Si la variable es categórica, realice una imputación que considere necesaria.\n",
    "** La variable *NO* es categorica**"
   ]
  },
  {
   "attachments": {},
   "cell_type": "markdown",
   "metadata": {},
   "source": [
    "5. Realice la codificación de variables categóricas, determine cual es le mejor enfoque\n",
    "para cada caso, recuerde que puede realizar los siguientes enfoques:"
   ]
  },
  {
   "cell_type": "code",
   "execution_count": 12,
   "metadata": {},
   "outputs": [
    {
     "data": {
      "text/plain": [
       "id                      int64\n",
       "longitude             float64\n",
       "latitude              float64\n",
       "housing_median_age      int64\n",
       "total_rooms             int64\n",
       "total_bedrooms        float64\n",
       "population              int64\n",
       "households              int64\n",
       "median_income         float64\n",
       "median_house_value    float64\n",
       "ocean_proximity        object\n",
       "dtype: object"
      ]
     },
     "execution_count": 12,
     "metadata": {},
     "output_type": "execute_result"
    }
   ],
   "source": [
    "## Validamos el tipo de variable en el dataset para determinar cuales son categoricas\n",
    "datatrain.dtypes"
   ]
  },
  {
   "cell_type": "code",
   "execution_count": 15,
   "metadata": {},
   "outputs": [
    {
     "data": {
      "text/plain": [
       "['ocean_proximity']"
      ]
     },
     "execution_count": 15,
     "metadata": {},
     "output_type": "execute_result"
    }
   ],
   "source": [
    "## Aunque por la cantidad de columnas se puede ver que solamente es una revalidamos ejecutando una busqueda de variables tipo \"object\"\n",
    "col_categoricas=[]\n",
    "colnames=datatrain.columns\n",
    "for col in colnames:\n",
    "    if(datatrain[col].dtype=='object'):\n",
    "        col_categoricas.append(col)\n",
    "col_categoricas"
   ]
  },
  {
   "cell_type": "code",
   "execution_count": 17,
   "metadata": {},
   "outputs": [
    {
     "data": {
      "text/plain": [
       "<1H OCEAN     6384\n",
       "INLAND        4577\n",
       "NEAR OCEAN    1865\n",
       "NEAR BAY      1619\n",
       "ISLAND           2\n",
       "Name: ocean_proximity, dtype: int64"
      ]
     },
     "execution_count": 17,
     "metadata": {},
     "output_type": "execute_result"
    }
   ],
   "source": [
    "##Validamos los valores unicos de la columna categorica\n",
    "datatrain['ocean_proximity'].value_counts().sort_values(ascending=False)\n"
   ]
  },
  {
   "cell_type": "code",
   "execution_count": 18,
   "metadata": {},
   "outputs": [
    {
     "data": {
      "text/plain": [
       "{'<1H OCEAN': 6384,\n",
       " 'INLAND': 4577,\n",
       " 'NEAR OCEAN': 1865,\n",
       " 'NEAR BAY': 1619,\n",
       " 'ISLAND': 2}"
      ]
     },
     "execution_count": 18,
     "metadata": {},
     "output_type": "execute_result"
    }
   ],
   "source": [
    "## Debido a la alta cardinalidad de la variable se toma la decision de utilizar *FREQUENCY ENCODING*\n",
    "oceanprox_frecuency=(datatrain['ocean_proximity'].value_counts().sort_values(ascending=False)).to_dict()\n",
    "oceanprox_frecuency"
   ]
  },
  {
   "cell_type": "code",
   "execution_count": 19,
   "metadata": {},
   "outputs": [
    {
     "data": {
      "text/html": [
       "<div>\n",
       "<style scoped>\n",
       "    .dataframe tbody tr th:only-of-type {\n",
       "        vertical-align: middle;\n",
       "    }\n",
       "\n",
       "    .dataframe tbody tr th {\n",
       "        vertical-align: top;\n",
       "    }\n",
       "\n",
       "    .dataframe thead th {\n",
       "        text-align: right;\n",
       "    }\n",
       "</style>\n",
       "<table border=\"1\" class=\"dataframe\">\n",
       "  <thead>\n",
       "    <tr style=\"text-align: right;\">\n",
       "      <th></th>\n",
       "      <th>oceanprox_frecuency</th>\n",
       "      <th>ocean_proximity</th>\n",
       "    </tr>\n",
       "  </thead>\n",
       "  <tbody>\n",
       "    <tr>\n",
       "      <th>0</th>\n",
       "      <td>6384</td>\n",
       "      <td>&lt;1H OCEAN</td>\n",
       "    </tr>\n",
       "    <tr>\n",
       "      <th>1</th>\n",
       "      <td>4577</td>\n",
       "      <td>INLAND</td>\n",
       "    </tr>\n",
       "    <tr>\n",
       "      <th>2</th>\n",
       "      <td>6384</td>\n",
       "      <td>&lt;1H OCEAN</td>\n",
       "    </tr>\n",
       "    <tr>\n",
       "      <th>3</th>\n",
       "      <td>1619</td>\n",
       "      <td>NEAR BAY</td>\n",
       "    </tr>\n",
       "    <tr>\n",
       "      <th>4</th>\n",
       "      <td>6384</td>\n",
       "      <td>&lt;1H OCEAN</td>\n",
       "    </tr>\n",
       "    <tr>\n",
       "      <th>...</th>\n",
       "      <td>...</td>\n",
       "      <td>...</td>\n",
       "    </tr>\n",
       "    <tr>\n",
       "      <th>14442</th>\n",
       "      <td>1619</td>\n",
       "      <td>NEAR BAY</td>\n",
       "    </tr>\n",
       "    <tr>\n",
       "      <th>14443</th>\n",
       "      <td>1865</td>\n",
       "      <td>NEAR OCEAN</td>\n",
       "    </tr>\n",
       "    <tr>\n",
       "      <th>14444</th>\n",
       "      <td>4577</td>\n",
       "      <td>INLAND</td>\n",
       "    </tr>\n",
       "    <tr>\n",
       "      <th>14445</th>\n",
       "      <td>4577</td>\n",
       "      <td>INLAND</td>\n",
       "    </tr>\n",
       "    <tr>\n",
       "      <th>14446</th>\n",
       "      <td>6384</td>\n",
       "      <td>&lt;1H OCEAN</td>\n",
       "    </tr>\n",
       "  </tbody>\n",
       "</table>\n",
       "<p>14447 rows × 2 columns</p>\n",
       "</div>"
      ],
      "text/plain": [
       "       oceanprox_frecuency ocean_proximity\n",
       "0                     6384       <1H OCEAN\n",
       "1                     4577          INLAND\n",
       "2                     6384       <1H OCEAN\n",
       "3                     1619        NEAR BAY\n",
       "4                     6384       <1H OCEAN\n",
       "...                    ...             ...\n",
       "14442                 1619        NEAR BAY\n",
       "14443                 1865      NEAR OCEAN\n",
       "14444                 4577          INLAND\n",
       "14445                 4577          INLAND\n",
       "14446                 6384       <1H OCEAN\n",
       "\n",
       "[14447 rows x 2 columns]"
      ]
     },
     "execution_count": 19,
     "metadata": {},
     "output_type": "execute_result"
    }
   ],
   "source": [
    "datatrain['oceanprox_frecuency']=datatrain['ocean_proximity'].map(oceanprox_frecuency)\n",
    "datatrain[['oceanprox_frecuency','ocean_proximity']]"
   ]
  },
  {
   "cell_type": "code",
   "execution_count": 61,
   "metadata": {},
   "outputs": [
    {
     "data": {
      "text/html": [
       "<div>\n",
       "<style scoped>\n",
       "    .dataframe tbody tr th:only-of-type {\n",
       "        vertical-align: middle;\n",
       "    }\n",
       "\n",
       "    .dataframe tbody tr th {\n",
       "        vertical-align: top;\n",
       "    }\n",
       "\n",
       "    .dataframe thead th {\n",
       "        text-align: right;\n",
       "    }\n",
       "</style>\n",
       "<table border=\"1\" class=\"dataframe\">\n",
       "  <thead>\n",
       "    <tr style=\"text-align: right;\">\n",
       "      <th></th>\n",
       "      <th>id</th>\n",
       "      <th>longitude</th>\n",
       "      <th>latitude</th>\n",
       "      <th>housing_median_age</th>\n",
       "      <th>total_rooms</th>\n",
       "      <th>total_bedrooms</th>\n",
       "      <th>population</th>\n",
       "      <th>households</th>\n",
       "      <th>median_income</th>\n",
       "      <th>median_house_value</th>\n",
       "      <th>ocean_proximity</th>\n",
       "      <th>oceanprox_frecuency</th>\n",
       "    </tr>\n",
       "  </thead>\n",
       "  <tbody>\n",
       "    <tr>\n",
       "      <th>0</th>\n",
       "      <td>9744</td>\n",
       "      <td>0.265265</td>\n",
       "      <td>0.449522</td>\n",
       "      <td>0.274510</td>\n",
       "      <td>0.055674</td>\n",
       "      <td>0.055400</td>\n",
       "      <td>0.040056</td>\n",
       "      <td>0.054103</td>\n",
       "      <td>0.296341</td>\n",
       "      <td>0.438145</td>\n",
       "      <td>&lt;1H OCEAN</td>\n",
       "      <td>6384</td>\n",
       "    </tr>\n",
       "    <tr>\n",
       "      <th>1</th>\n",
       "      <td>13893</td>\n",
       "      <td>0.803804</td>\n",
       "      <td>0.168969</td>\n",
       "      <td>0.705882</td>\n",
       "      <td>0.011445</td>\n",
       "      <td>0.016760</td>\n",
       "      <td>0.006232</td>\n",
       "      <td>0.009538</td>\n",
       "      <td>0.222707</td>\n",
       "      <td>0.104744</td>\n",
       "      <td>INLAND</td>\n",
       "      <td>4577</td>\n",
       "    </tr>\n",
       "    <tr>\n",
       "      <th>2</th>\n",
       "      <td>18277</td>\n",
       "      <td>0.223223</td>\n",
       "      <td>0.510096</td>\n",
       "      <td>0.666667</td>\n",
       "      <td>0.029757</td>\n",
       "      <td>0.028399</td>\n",
       "      <td>0.017717</td>\n",
       "      <td>0.028614</td>\n",
       "      <td>0.472835</td>\n",
       "      <td>1.000000</td>\n",
       "      <td>&lt;1H OCEAN</td>\n",
       "      <td>6384</td>\n",
       "    </tr>\n",
       "    <tr>\n",
       "      <th>3</th>\n",
       "      <td>16176</td>\n",
       "      <td>0.191191</td>\n",
       "      <td>0.552604</td>\n",
       "      <td>1.000000</td>\n",
       "      <td>0.003154</td>\n",
       "      <td>0.003569</td>\n",
       "      <td>0.001085</td>\n",
       "      <td>0.004276</td>\n",
       "      <td>0.670784</td>\n",
       "      <td>0.432990</td>\n",
       "      <td>NEAR BAY</td>\n",
       "      <td>1619</td>\n",
       "    </tr>\n",
       "    <tr>\n",
       "      <th>4</th>\n",
       "      <td>8843</td>\n",
       "      <td>0.592593</td>\n",
       "      <td>0.164718</td>\n",
       "      <td>0.529412</td>\n",
       "      <td>0.101709</td>\n",
       "      <td>0.209652</td>\n",
       "      <td>0.062780</td>\n",
       "      <td>0.200460</td>\n",
       "      <td>0.143343</td>\n",
       "      <td>0.531752</td>\n",
       "      <td>&lt;1H OCEAN</td>\n",
       "      <td>6384</td>\n",
       "    </tr>\n",
       "  </tbody>\n",
       "</table>\n",
       "</div>"
      ],
      "text/plain": [
       "      id  longitude  latitude  housing_median_age  total_rooms  \\\n",
       "0   9744   0.265265  0.449522            0.274510     0.055674   \n",
       "1  13893   0.803804  0.168969            0.705882     0.011445   \n",
       "2  18277   0.223223  0.510096            0.666667     0.029757   \n",
       "3  16176   0.191191  0.552604            1.000000     0.003154   \n",
       "4   8843   0.592593  0.164718            0.529412     0.101709   \n",
       "\n",
       "   total_bedrooms  population  households  median_income  median_house_value  \\\n",
       "0        0.055400    0.040056    0.054103       0.296341            0.438145   \n",
       "1        0.016760    0.006232    0.009538       0.222707            0.104744   \n",
       "2        0.028399    0.017717    0.028614       0.472835            1.000000   \n",
       "3        0.003569    0.001085    0.004276       0.670784            0.432990   \n",
       "4        0.209652    0.062780    0.200460       0.143343            0.531752   \n",
       "\n",
       "  ocean_proximity  oceanprox_frecuency  \n",
       "0       <1H OCEAN                 6384  \n",
       "1          INLAND                 4577  \n",
       "2       <1H OCEAN                 6384  \n",
       "3        NEAR BAY                 1619  \n",
       "4       <1H OCEAN                 6384  "
      ]
     },
     "execution_count": 61,
     "metadata": {},
     "output_type": "execute_result"
    }
   ],
   "source": [
    "datatrain.head()"
   ]
  },
  {
   "attachments": {},
   "cell_type": "markdown",
   "metadata": {},
   "source": [
    "6. Para todas las variables resultantes realice Feature Scaling según lo considere más\n",
    "pertinente."
   ]
  },
  {
   "cell_type": "code",
   "execution_count": 62,
   "metadata": {},
   "outputs": [],
   "source": [
    "## Importamos las librerias que utilizaremos\n",
    "from sklearn.preprocessing import StandardScaler\n",
    "import seaborn as sns\n"
   ]
  },
  {
   "cell_type": "code",
   "execution_count": 63,
   "metadata": {},
   "outputs": [],
   "source": [
    "## Definimos las categorias existentes dentro de nuestro dataset \n",
    "dataset=datatrain\n",
    "\n",
    "def getColumnTypes(dataset):\n",
    "    '''Esta funcion extrae el tipo de dominio de lsa columnas de un dataset.\n",
    "        Entradas: Pandas Dataframe\n",
    "        Salida: Tupla con arreglo que contiene nombres de las columnas'''\n",
    "    continuas=[]\n",
    "    discretas=[]\n",
    "    categoricas=[]\n",
    "    for col in dataset.columns:\n",
    "        if((dataset[col].dtype=='int64'or dataset[col].dtype=='float64')):\n",
    "            if(len(dataset[col].unique())>30):\n",
    "                continuas.append(col)\n",
    "            else:\n",
    "                discretas.append(col)\n",
    "        else:\n",
    "            categoricas.append(col)\n",
    "\n",
    "    return continuas, discretas, categoricas  "
   ]
  },
  {
   "cell_type": "code",
   "execution_count": 64,
   "metadata": {},
   "outputs": [
    {
     "name": "stdout",
     "output_type": "stream",
     "text": [
      "continuas: ['id', 'longitude', 'latitude', 'housing_median_age', 'total_rooms', 'total_bedrooms', 'population', 'households', 'median_income', 'median_house_value']\n",
      "discretas: ['oceanprox_frecuency']\n",
      "categoricas: ['ocean_proximity']\n"
     ]
    }
   ],
   "source": [
    "## Identificamos las columnas que se asignaran a cada categoria definida en el punto anterior\n",
    "continuas, discretas, categoricas=getColumnTypes(datatrain)\n",
    "print(f\"continuas: {continuas}\")\n",
    "print(f\"discretas: {discretas}\")\n",
    "print(f\"categoricas: {categoricas}\")"
   ]
  },
  {
   "cell_type": "code",
   "execution_count": 65,
   "metadata": {},
   "outputs": [],
   "source": [
    "## Realizamos una copia del dataset conteniendo unicamente las variables continuas\n",
    "datatrain_temp=datatrain.copy()[continuas]"
   ]
  },
  {
   "cell_type": "code",
   "execution_count": 66,
   "metadata": {},
   "outputs": [],
   "source": [
    "## el codigo crea una variable escaler donde se transformaran los datos de nuestro dataset original a una escala que sea comparable entre variables\n",
    "scaler=StandardScaler()\n",
    "scaler.fit(datatrain_temp)# calculamos la media  desviacion estandard de la columna datatrain_temp\n",
    "\n",
    "\n",
    "datatrain_scaled=scaler.transform(datatrain_temp)\n",
    "datatrain_scaled=pd.DataFrame(datatrain_scaled, columns=datatrain_temp.columns)"
   ]
  },
  {
   "cell_type": "code",
   "execution_count": 67,
   "metadata": {},
   "outputs": [
    {
     "data": {
      "text/html": [
       "<div>\n",
       "<style scoped>\n",
       "    .dataframe tbody tr th:only-of-type {\n",
       "        vertical-align: middle;\n",
       "    }\n",
       "\n",
       "    .dataframe tbody tr th {\n",
       "        vertical-align: top;\n",
       "    }\n",
       "\n",
       "    .dataframe thead th {\n",
       "        text-align: right;\n",
       "    }\n",
       "</style>\n",
       "<table border=\"1\" class=\"dataframe\">\n",
       "  <thead>\n",
       "    <tr style=\"text-align: right;\">\n",
       "      <th></th>\n",
       "      <th>id</th>\n",
       "      <th>longitude</th>\n",
       "      <th>latitude</th>\n",
       "      <th>housing_median_age</th>\n",
       "      <th>total_rooms</th>\n",
       "      <th>total_bedrooms</th>\n",
       "      <th>population</th>\n",
       "      <th>households</th>\n",
       "      <th>median_income</th>\n",
       "      <th>median_house_value</th>\n",
       "    </tr>\n",
       "  </thead>\n",
       "  <tbody>\n",
       "    <tr>\n",
       "      <th>count</th>\n",
       "      <td>1.444700e+04</td>\n",
       "      <td>1.444700e+04</td>\n",
       "      <td>1.444700e+04</td>\n",
       "      <td>1.444700e+04</td>\n",
       "      <td>1.444700e+04</td>\n",
       "      <td>1.444700e+04</td>\n",
       "      <td>1.444700e+04</td>\n",
       "      <td>1.444700e+04</td>\n",
       "      <td>1.444700e+04</td>\n",
       "      <td>1.444700e+04</td>\n",
       "    </tr>\n",
       "    <tr>\n",
       "      <th>mean</th>\n",
       "      <td>-3.627610e-17</td>\n",
       "      <td>1.826677e-17</td>\n",
       "      <td>-9.859598e-18</td>\n",
       "      <td>-3.254238e-16</td>\n",
       "      <td>-4.107525e-18</td>\n",
       "      <td>-1.042770e-16</td>\n",
       "      <td>-2.832694e-16</td>\n",
       "      <td>-6.005287e-17</td>\n",
       "      <td>-1.388259e-17</td>\n",
       "      <td>-4.834279e-17</td>\n",
       "    </tr>\n",
       "    <tr>\n",
       "      <th>std</th>\n",
       "      <td>1.000035e+00</td>\n",
       "      <td>1.000035e+00</td>\n",
       "      <td>1.000035e+00</td>\n",
       "      <td>1.000035e+00</td>\n",
       "      <td>1.000035e+00</td>\n",
       "      <td>1.000035e+00</td>\n",
       "      <td>1.000035e+00</td>\n",
       "      <td>1.000035e+00</td>\n",
       "      <td>1.000035e+00</td>\n",
       "      <td>1.000035e+00</td>\n",
       "    </tr>\n",
       "    <tr>\n",
       "      <th>min</th>\n",
       "      <td>-1.724790e+00</td>\n",
       "      <td>-2.355735e+00</td>\n",
       "      <td>-1.452625e+00</td>\n",
       "      <td>-2.212627e+00</td>\n",
       "      <td>-1.188731e+00</td>\n",
       "      <td>-1.272046e+00</td>\n",
       "      <td>-1.262951e+00</td>\n",
       "      <td>-1.292484e+00</td>\n",
       "      <td>-1.777237e+00</td>\n",
       "      <td>-1.664713e+00</td>\n",
       "    </tr>\n",
       "    <tr>\n",
       "      <th>25%</th>\n",
       "      <td>-8.621810e-01</td>\n",
       "      <td>-1.110378e+00</td>\n",
       "      <td>-8.017092e-01</td>\n",
       "      <td>-8.617895e-01</td>\n",
       "      <td>-5.377766e-01</td>\n",
       "      <td>-5.705945e-01</td>\n",
       "      <td>-5.688125e-01</td>\n",
       "      <td>-5.700018e-01</td>\n",
       "      <td>-6.851026e-01</td>\n",
       "      <td>-7.571904e-01</td>\n",
       "    </tr>\n",
       "    <tr>\n",
       "      <th>50%</th>\n",
       "      <td>-1.098754e-02</td>\n",
       "      <td>5.392830e-01</td>\n",
       "      <td>-6.471751e-01</td>\n",
       "      <td>1.228189e-02</td>\n",
       "      <td>-2.321621e-01</td>\n",
       "      <td>-2.411969e-01</td>\n",
       "      <td>-2.333120e-01</td>\n",
       "      <td>-2.385403e-01</td>\n",
       "      <td>-1.737847e-01</td>\n",
       "      <td>-2.357601e-01</td>\n",
       "    </tr>\n",
       "    <tr>\n",
       "      <th>75%</th>\n",
       "      <td>8.684923e-01</td>\n",
       "      <td>7.788706e-01</td>\n",
       "      <td>9.730907e-01</td>\n",
       "      <td>6.479701e-01</td>\n",
       "      <td>2.267111e-01</td>\n",
       "      <td>2.517146e-01</td>\n",
       "      <td>2.641541e-01</td>\n",
       "      <td>2.703048e-01</td>\n",
       "      <td>4.537598e-01</td>\n",
       "      <td>5.008360e-01</td>\n",
       "    </tr>\n",
       "    <tr>\n",
       "      <th>max</th>\n",
       "      <td>1.739914e+00</td>\n",
       "      <td>2.630684e+00</td>\n",
       "      <td>2.953936e+00</td>\n",
       "      <td>1.839886e+00</td>\n",
       "      <td>1.656038e+01</td>\n",
       "      <td>1.399873e+01</td>\n",
       "      <td>2.415321e+01</td>\n",
       "      <td>1.445452e+01</td>\n",
       "      <td>5.883260e+00</td>\n",
       "      <td>2.543186e+00</td>\n",
       "    </tr>\n",
       "  </tbody>\n",
       "</table>\n",
       "</div>"
      ],
      "text/plain": [
       "                 id     longitude      latitude  housing_median_age  \\\n",
       "count  1.444700e+04  1.444700e+04  1.444700e+04        1.444700e+04   \n",
       "mean  -3.627610e-17  1.826677e-17 -9.859598e-18       -3.254238e-16   \n",
       "std    1.000035e+00  1.000035e+00  1.000035e+00        1.000035e+00   \n",
       "min   -1.724790e+00 -2.355735e+00 -1.452625e+00       -2.212627e+00   \n",
       "25%   -8.621810e-01 -1.110378e+00 -8.017092e-01       -8.617895e-01   \n",
       "50%   -1.098754e-02  5.392830e-01 -6.471751e-01        1.228189e-02   \n",
       "75%    8.684923e-01  7.788706e-01  9.730907e-01        6.479701e-01   \n",
       "max    1.739914e+00  2.630684e+00  2.953936e+00        1.839886e+00   \n",
       "\n",
       "        total_rooms  total_bedrooms    population    households  \\\n",
       "count  1.444700e+04    1.444700e+04  1.444700e+04  1.444700e+04   \n",
       "mean  -4.107525e-18   -1.042770e-16 -2.832694e-16 -6.005287e-17   \n",
       "std    1.000035e+00    1.000035e+00  1.000035e+00  1.000035e+00   \n",
       "min   -1.188731e+00   -1.272046e+00 -1.262951e+00 -1.292484e+00   \n",
       "25%   -5.377766e-01   -5.705945e-01 -5.688125e-01 -5.700018e-01   \n",
       "50%   -2.321621e-01   -2.411969e-01 -2.333120e-01 -2.385403e-01   \n",
       "75%    2.267111e-01    2.517146e-01  2.641541e-01  2.703048e-01   \n",
       "max    1.656038e+01    1.399873e+01  2.415321e+01  1.445452e+01   \n",
       "\n",
       "       median_income  median_house_value  \n",
       "count   1.444700e+04        1.444700e+04  \n",
       "mean   -1.388259e-17       -4.834279e-17  \n",
       "std     1.000035e+00        1.000035e+00  \n",
       "min    -1.777237e+00       -1.664713e+00  \n",
       "25%    -6.851026e-01       -7.571904e-01  \n",
       "50%    -1.737847e-01       -2.357601e-01  \n",
       "75%     4.537598e-01        5.008360e-01  \n",
       "max     5.883260e+00        2.543186e+00  "
      ]
     },
     "execution_count": 67,
     "metadata": {},
     "output_type": "execute_result"
    }
   ],
   "source": [
    "## generamos una vista de las columnas con el scaler aplicado\n",
    "datatrain_scaled.describe()"
   ]
  },
  {
   "cell_type": "code",
   "execution_count": 68,
   "metadata": {},
   "outputs": [
    {
     "data": {
      "image/png": "[encoded data removed]",
      "text/plain": [
       "<Figure size 1200x500 with 2 Axes>"
      ]
     },
     "metadata": {},
     "output_type": "display_data"
    }
   ],
   "source": [
    "## Comparamos columnas para ver el impacto de el dataset original y luego como las variables con scaler son comparables entre si\n",
    "\n",
    "fig,(ax1, ax2)=plt.subplots(ncols=2, figsize=(12,5))\n",
    "\n",
    "ax1.set_title(\"Sin Escala\")\n",
    "sns.kdeplot(datatrain_temp['median_income'], ax=ax1, label=\"median_income\")\n",
    "sns.kdeplot(datatrain_temp['total_rooms'], ax=ax1, label=\"total_rooms\")\n",
    "\n",
    "ax2.set_title(\"Con Escala\")\n",
    "sns.kdeplot(datatrain_scaled['median_income'], ax=ax2, label=\"median_income_scaled\")\n",
    "sns.kdeplot(datatrain_scaled['total_rooms'], ax=ax2, label=\"total_rooms_scaled\")\n",
    "\n",
    "ax1.legend()\n",
    "ax2.legend()\n",
    "\n",
    "plt.show()"
   ]
  },
  {
   "cell_type": "code",
   "execution_count": 70,
   "metadata": {},
   "outputs": [
    {
     "name": "stdout",
     "output_type": "stream",
     "text": [
      "RMSE: 0.00024121654831640776\n"
     ]
    }
   ],
   "source": [
    "from sklearn.ensemble import RandomForestRegressor\n",
    "from sklearn.metrics import mean_squared_error\n",
    "from sklearn.model_selection import train_test_split\n",
    "import numpy as np\n",
    "\n",
    "# Separar la variable objetivo y las características\n",
    "X = datatrain.drop(\"ocean_proximity\", axis=1)\n",
    "y = datatrain[\"median_income\"]\n",
    "\n",
    "# Dividir el conjunto de datos en entrenamiento y prueba\n",
    "X_train, X_test, y_train, y_test = train_test_split(X, y, test_size=0.2, random_state=42)\n",
    "\n",
    "# Crear y entrenar el modelo de Regresión de Bosques Aleatorios\n",
    "model = RandomForestRegressor()\n",
    "model.fit(X_train, y_train)\n",
    "\n",
    "# Realizar predicciones en el conjunto de prueba\n",
    "y_pred = model.predict(X_test)\n",
    "\n",
    "# Calcular el RMSE en el conjunto de prueba\n",
    "rmse = np.sqrt(mean_squared_error(y_test, y_pred))\n",
    "print(\"RMSE:\", rmse)\n"
   ]
  }
 ],
 "metadata": {
  "kernelspec": {
   "display_name": "base",
   "language": "python",
   "name": "python3"
  },
  "language_info": {
   "codemirror_mode": {
    "name": "ipython",
    "version": 3
   },
   "file_extension": ".py",
   "mimetype": "text/x-python",
   "name": "python",
   "nbconvert_exporter": "python",
   "pygments_lexer": "ipython3",
   "version": "3.9.13"
  },
  "orig_nbformat": 4
 },
 "nbformat": 4,
 "nbformat_minor": 2
}
